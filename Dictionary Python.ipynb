{
 "cells": [
  {
   "cell_type": "code",
   "execution_count": 26,
   "metadata": {},
   "outputs": [
    {
     "name": "stdout",
     "output_type": "stream",
     "text": [
      "List Of given states:\n",
      "\n",
      "Gujarat\n",
      "Maharashtra\n",
      "Rajasthan\n",
      "Bihar\n"
     ]
    }
   ],
   "source": [
    "# Python3 code to iterate through all keys in a dictionary \n",
    "\n",
    "statesAndCapitals = { \n",
    "                    'Gujarat' : 'Gandhinagar', \n",
    "                    'Maharashtra' : 'Mumbai', \n",
    "                    'Rajasthan' : 'Jaipur', \n",
    "                    'Bihar' : 'Patna'\n",
    "                    } \n",
    "                    \n",
    "print('List Of given states:\\n') \n",
    "#Keys is State and Values is Capital\n",
    "\n",
    "# Iterating over keys \n",
    "for state in statesAndCapitals: \n",
    "    print(state) \n"
   ]
  },
  {
   "cell_type": "code",
   "execution_count": 19,
   "metadata": {},
   "outputs": [
    {
     "name": "stdout",
     "output_type": "stream",
     "text": [
      "Gandhinagar\n",
      "Mumbai\n",
      "Jaipur\n",
      "Patna\n"
     ]
    }
   ],
   "source": [
    "# Iterating over values \n",
    "for capital in statesAndCapitals.values(): \n",
    "    print(capital) "
   ]
  },
  {
   "cell_type": "code",
   "execution_count": 12,
   "metadata": {},
   "outputs": [
    {
     "name": "stdout",
     "output_type": "stream",
     "text": [
      "Gujarat : Gandhinagar\n",
      "Maharashtra : Mumbai\n",
      "Rajasthan : Jaipur\n",
      "Bihar : Patna\n"
     ]
    }
   ],
   "source": [
    "# Python3 code to iterate through all key, value \n",
    "# pairs in a dictionary \n",
    "for state, capital in statesAndCapitals.items(): \n",
    "    print(state, \":\", capital) "
   ]
  },
  {
   "cell_type": "code",
   "execution_count": 13,
   "metadata": {},
   "outputs": [
    {
     "name": "stdout",
     "output_type": "stream",
     "text": [
      "Gujarat : Gandhinagar\n",
      "Maharashtra : Mumbai\n",
      "Rajasthan : Jaipur\n",
      "Bihar : Patna\n"
     ]
    }
   ],
   "source": [
    "#Another way to iterate through all key, value \n",
    "for state in statesAndCapitals: \n",
    "    print(state, \":\", statesAndCapitals[state])"
   ]
  },
  {
   "cell_type": "code",
   "execution_count": 15,
   "metadata": {},
   "outputs": [
    {
     "name": "stdout",
     "output_type": "stream",
     "text": [
      "('Gujarat', 'Gandhinagar')\n",
      "('Maharashtra', 'Mumbai')\n",
      "('Rajasthan', 'Jaipur')\n",
      "('Bihar', 'Patna')\n"
     ]
    }
   ],
   "source": [
    "#Another way to iterate through all key, value \n",
    "for items in statesAndCapitals.items(): \n",
    "    print(items) "
   ]
  },
  {
   "cell_type": "code",
   "execution_count": 27,
   "metadata": {},
   "outputs": [
    {
     "name": "stdout",
     "output_type": "stream",
     "text": [
      "Before Modifying\n",
      "Gujarat : Gandhinagar\n",
      "Maharashtra : Mumbai\n",
      "Rajasthan : Jaipur\n",
      "Bihar : Patna\n",
      "\n",
      "After Modifying\n",
      "Gujarat : Gandhinagar\n",
      "Maharashtra : Mumbai\n",
      "Rajasthan : Jaipur\n",
      "Bihar : Jakarta\n"
     ]
    }
   ],
   "source": [
    "print (\"Before Modifying\")\n",
    "for state in statesAndCapitals: \n",
    "    print(state, \":\", statesAndCapitals[state])\n",
    "    \n",
    "#Code to Modifying values for \"Bihar\" keys\n",
    "statesAndCapitals['Bihar'] = 'Jakarta'\n",
    "\n",
    "print (\"\\nAfter Modifying\")\n",
    "for state in statesAndCapitals: \n",
    "    print(state, \":\", statesAndCapitals[state])"
   ]
  },
  {
   "cell_type": "code",
   "execution_count": null,
   "metadata": {},
   "outputs": [],
   "source": []
  }
 ],
 "metadata": {
  "kernelspec": {
   "display_name": "Python 3",
   "language": "python",
   "name": "python3"
  },
  "language_info": {
   "codemirror_mode": {
    "name": "ipython",
    "version": 3
   },
   "file_extension": ".py",
   "mimetype": "text/x-python",
   "name": "python",
   "nbconvert_exporter": "python",
   "pygments_lexer": "ipython3",
   "version": "3.7.3"
  }
 },
 "nbformat": 4,
 "nbformat_minor": 2
}
